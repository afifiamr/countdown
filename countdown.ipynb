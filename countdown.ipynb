{
  "nbformat": 4,
  "nbformat_minor": 0,
  "metadata": {
    "colab": {
      "name": "countdown.ipynb",
      "provenance": []
    },
    "kernelspec": {
      "name": "python3",
      "display_name": "Python 3"
    },
    "language_info": {
      "name": "python"
    }
  },
  "cells": [
    {
      "cell_type": "code",
      "execution_count": 24,
      "metadata": {
        "colab": {
          "base_uri": "https://localhost:8080/"
        },
        "id": "N9dDZyZ5wp_1",
        "outputId": "60422293-56e7-457c-9538-a88c514ef9d3"
      },
      "outputs": [
        {
          "output_type": "stream",
          "name": "stdout",
          "text": [
            "please enter the time3\n",
            " 0:0\n",
            "fire in the hole\n"
          ]
        }
      ],
      "source": [
        "import time\n",
        "seconds=int(input(\"please enter the time\"))\n",
        "def countdown(t):\n",
        "  while t >= 0:\n",
        "    mins , sec = divmod(t,60)\n",
        "    timeformat = '{}:{}' .format(mins, sec)\n",
        "    print(\"\\r\",timeformat,end =\"\")\n",
        "    time.sleep(1)\n",
        "    t = t-1\n",
        "  print(\"\\nfire in the hole\")\n",
        "\n",
        "\n",
        "countdown(seconds)"
      ]
    },
    {
      "cell_type": "code",
      "source": [
        ""
      ],
      "metadata": {
        "id": "Cq08jqZ60DOX"
      },
      "execution_count": null,
      "outputs": []
    }
  ]
}